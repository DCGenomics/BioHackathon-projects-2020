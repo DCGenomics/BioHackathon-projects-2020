{
 "cells": [
  {
   "cell_type": "markdown",
   "metadata": {},
   "source": [
    "# Converting Scraped Data into IDPCentral\n",
    "\n",
    "Alasdair J G Gray ([ORCID:0000-0002-5711-4872](http://orcid.org/0000-0002-5711-4872))\n",
    "\n",
    "_Heriot-Watt University, Edinburgh, UK_\n",
    "\n",
    "## Introduction\n",
    "\n",
    "IDPCentral is the idea of having a central registry of proteins that are known to be disordered.\n",
    "\n",
    "We aim to populate the content of the registry with Bioschemas markup that has been scraped using the BMUSE tool.\n",
    "\n",
    "This notebook goes through the steps of converting the scraped content into the IDPCentral data model."
   ]
  },
  {
   "cell_type": "markdown",
   "metadata": {
    "heading_collapsed": true
   },
   "source": [
    "## IDPCentral Data Model\n",
    "\n",
    "The IDPCental data model reuses ideas from [Wikidata](https://www.mediawiki.org/wiki/Wikibase/DataModel) whereby every statement loaded contains a provenance link as to where it was acquired.\n",
    "\n",
    "- [ ] Document IDPCentral Model"
   ]
  },
  {
   "cell_type": "markdown",
   "metadata": {
    "heading_collapsed": true
   },
   "source": [
    "## Data Sources\n",
    "\n",
    "The following databases have been scraped to populate IDPCentral\n",
    "- [DisProt](https://www.disprot.org/)\n",
    "- [MobiDb](https://mobidb.bio.unipd.it/)\n",
    "- [Protein Ensemble Database](https://proteinensemble.org/)"
   ]
  },
  {
   "cell_type": "markdown",
   "metadata": {},
   "source": [
    "## Conversion using RDFlib\n",
    "\n",
    "This is an attempt to achieve the same functionality without using a triplestore."
   ]
  },
  {
   "cell_type": "markdown",
   "metadata": {},
   "source": [
    "Load in the RDFLib library."
   ]
  },
  {
   "cell_type": "code",
   "execution_count": null,
   "metadata": {},
   "outputs": [],
   "source": [
    "from rdflib import ConjunctiveGraph, Graph"
   ]
  },
  {
   "cell_type": "markdown",
   "metadata": {},
   "source": [
    "Template library used to template queries."
   ]
  },
  {
   "cell_type": "code",
   "execution_count": null,
   "metadata": {},
   "outputs": [],
   "source": [
    "from string import Template"
   ]
  },
  {
   "cell_type": "markdown",
   "metadata": {},
   "source": [
    "Import functions to list files in directory"
   ]
  },
  {
   "cell_type": "code",
   "execution_count": null,
   "metadata": {},
   "outputs": [],
   "source": [
    "from glob import glob"
   ]
  },
  {
   "cell_type": "markdown",
   "metadata": {},
   "source": [
    "Prepare query to extract UniProt and DisProt IRIs."
   ]
  },
  {
   "cell_type": "code",
   "execution_count": null,
   "metadata": {},
   "outputs": [],
   "source": [
    "idQuery = \"\"\"\n",
    "PREFIX schema: <https://schema.org/>\n",
    "SELECT ?proteinIRI ?uniprot\n",
    "WHERE {\n",
    "    GRAPH ?g {\n",
    "        ?proteinIRI a schema:Protein ;\n",
    "            schema:sameAs ?uniprot .\n",
    "        FILTER regex(str(?uniprot), \"^(https://www|http://purl).uniprot.org/uniprot/\")\n",
    "    }\n",
    "}\n",
    "\"\"\""
   ]
  },
  {
   "cell_type": "markdown",
   "metadata": {},
   "source": [
    "Prepared query for doing the conversion."
   ]
  },
  {
   "cell_type": "code",
   "execution_count": null,
   "metadata": {},
   "outputs": [],
   "source": [
    "convertQuery = Template(\"\"\"\n",
    "PREFIX schema: <https://schema.org/>\n",
    "CONSTRUCT {\n",
    "    <${uniprotIRI}> a schema:Protein ;\n",
    "        schema:identifier ?identifier ;\n",
    "        schema:name ?name ;\n",
    "        schema:hasSequenceAnnotation ?annotation ;\n",
    "        schema:taxonomicRange ?taxonomicRange ;\n",
    "        schema:hasRepresentation ?representation ;\n",
    "        schema:sameAs ?sameAs , <${proteinIRI}>.\n",
    "}\n",
    "WHERE {\n",
    "    GRAPH ?g {\n",
    "# Bioschemas Minimal Properties\n",
    "        <${proteinIRI}> a schema:Protein ;\n",
    "            schema:identifier ?identifier ;\n",
    "            schema:name ?name ;\n",
    "# Bioschemas Recommended properties\n",
    "            schema:hasSequenceAnnotation ?annotation ;\n",
    "            schema:taxonomicRange ?taxonomicRange ;\n",
    "# Bioschemas Optional properties\n",
    "            schema:sameAs ?sameAs .\n",
    "        OPTIONAL {<${proteinIRI}> schema:hasRepresentation ?representation }\n",
    "    }\n",
    "}\n",
    "\"\"\")"
   ]
  },
  {
   "cell_type": "markdown",
   "metadata": {},
   "source": [
    "Method for running the prepared construct query."
   ]
  },
  {
   "cell_type": "code",
   "execution_count": null,
   "metadata": {},
   "outputs": [],
   "source": [
    "def convertDisprot(g, protein, uniprot):\n",
    "    query = convertQuery.substitute(proteinIRI=protein,uniprotIRI=uniprot)\n",
    "#     print(query)\n",
    "    return g.query(query)"
   ]
  },
  {
   "cell_type": "markdown",
   "metadata": {},
   "source": [
    "Function to extract just the triples that IDPCentral are using in their UI"
   ]
  },
  {
   "cell_type": "code",
   "execution_count": null,
   "metadata": {},
   "outputs": [],
   "source": [
    "idpQuery = \"\"\"\n",
    "PREFIX schema: <https://schema.org/>\n",
    "PREFIX idp: <https://example.com/ipd/>\n",
    "CONSTRUCT {\n",
    "    ?entry_url idp:name ?entry_name ;\n",
    "        idp:identifier ?entry_id ;\n",
    "        idp:sameAs ?uniprot_acc ;\n",
    "        idp:sequence_range [\n",
    "            idp:sequence_id ?sequenceID ;\n",
    "            idp:start ?start ;\n",
    "            idp:end ?end ;\n",
    "            idp:range_annotation ?range_annotation\n",
    "        ] .\n",
    "}\n",
    "WHERE {\n",
    "    GRAPH ?g {\n",
    "        ?entry_url a schema:Protein ;\n",
    "            schema:name ?entry_name ;\n",
    "            schema:identifier ?entry_id ;\n",
    "            schema:hasSequenceAnnotation ?sequenceID ;\n",
    "            schema:sameAs ?uniprot_acc .\n",
    "        FILTER regex(str(?uniprot_acc), \"^https://www.uniprot.org/uniprot/\")\n",
    "        ?sequenceID schema:sequenceLocation ?sequenceLocation ;\n",
    "                  schema:additionalProperty/schema:value/schema:name ?range_annotation .\n",
    "        ?sequenceLocation schema:rangeStart ?start ;\n",
    "            schema:rangeEnd ?end.\n",
    "    }\n",
    "}\n",
    "\"\"\"\n",
    "def idpExtraction(g):\n",
    "    return g.query(idpQuery)"
   ]
  },
  {
   "cell_type": "markdown",
   "metadata": {},
   "source": [
    "Function to run over all files in a specified directory"
   ]
  },
  {
   "cell_type": "code",
   "execution_count": null,
   "metadata": {},
   "outputs": [],
   "source": [
    "def processDataFiles(idpKG, idpModel, directoryLocation):\n",
    "    processed = 0\n",
    "    for file in glob(directoryLocation + \"*.nq\"):\n",
    "        print(\"\\tProcessing file: %s\" % file)\n",
    "        g = ConjunctiveGraph()\n",
    "        g.parse(file, format=\"nquads\")\n",
    "        print(\"\\tSource has %s statements.\" % len(g))\n",
    "        # Extract statements for IDPCentral\n",
    "        idpModel += idpExtraction(g)\n",
    "        print(\"\\tIDPcentral has %s statements.\" % len(idpModel))\n",
    "        # Extract DisProt and UniProt IRIs\n",
    "        results = g.query(idQuery)\n",
    "        print(\"\\tID query result has %s statements.\" % len(results))\n",
    "        # Convert to IDPCentral model\n",
    "        for result in results:\n",
    "            print(\"\\tProtein: %s\\n\\tUniProt: %s\" % (result['proteinIRI'], result['uniprot']))\n",
    "            resGraph = convertDisprot(g, result['proteinIRI'], result['uniprot'])\n",
    "            print(\"\\tconvert query has %s statements.\" % len(resGraph))\n",
    "            idpKG += resGraph\n",
    "            print(\"\\tIDPKG has %s statements.\" % len(idpKG))\n",
    "        processed += 1\n",
    "    return processed"
   ]
  },
  {
   "cell_type": "markdown",
   "metadata": {},
   "source": [
    "Function to output data files for a graph"
   ]
  },
  {
   "cell_type": "code",
   "execution_count": null,
   "metadata": {},
   "outputs": [],
   "source": [
    "def outputFiles(graph, label):\n",
    "    # print(graph.serialize(format='nt'))\n",
    "    print(\"%s has %s statements.\" % (label, len(graph)))\n",
    "    graph.serialize(label+'.nt', format='nt')\n",
    "    graph.serialize(label+'.jsonld', format='json-ld')\n",
    "    print('Successfully written all triples to %s.nt' % label)"
   ]
  },
  {
   "cell_type": "markdown",
   "metadata": {},
   "source": [
    "Read in each nq data file in turn\n",
    "\n",
    "Process each file and convert into IDPCentral model\n",
    "\n",
    "__Issues:__\n",
    "- IDPcentral is not getting updated with entries from mobidb"
   ]
  },
  {
   "cell_type": "code",
   "execution_count": null,
   "metadata": {},
   "outputs": [],
   "source": [
    "idpKG = Graph()\n",
    "idpModel = Graph()\n",
    "totalProcessed = 0\n",
    "\n",
    "print(\"Processing DisProt...\")\n",
    "numberOfFiles = processDataFiles(idpKG, idpModel, \"../scraped-data/disprot/\")\n",
    "print(\"Processed %d files\" % numberOfFiles)\n",
    "totalProcessed += numberOfFiles\n",
    "\n",
    "print(\"Processing MobiDB...\")\n",
    "numberOfFiles = processDataFiles(idpKG, idpModel, \"../scraped-data/mobidb/\")\n",
    "print(\"Processed %d files\" % numberOfFiles)\n",
    "totalProcessed += numberOfFiles\n",
    "\n",
    "outputFiles(idpModel, \"IDPCentral\")\n",
    "outputFiles(idpKG, \"IDPKG\")\n",
    "print('Processed %d files' % totalProcessed)"
   ]
  },
  {
   "cell_type": "markdown",
   "metadata": {},
   "source": [
    "__Problems with MobiDB data:__ using some incorrect properties"
   ]
  },
  {
   "cell_type": "code",
   "execution_count": null,
   "metadata": {},
   "outputs": [],
   "source": [
    "g = ConjunctiveGraph()\n",
    "g.parse(\"../scraped-data/mobidb/4283.nq\", format=\"nquads\")\n",
    "# print(g.serialize(format='nt'))\n",
    "print(\"Source has %s statements.\" % len(g))\n",
    "idpCenGraph = idpExtraction(g)\n",
    "print(\"IDPcentral has %s statements.\" % len(idpCenGraph))\n",
    "results = g.query(idQuery)\n",
    "print(\"graph has %s statements.\" % len(results))\n",
    "for result in results:\n",
    "    print(\"Protein: %s\\nUniProt: %s\" % result)\n",
    "for result in results:\n",
    "    resGraph = convertDisprot(g, result['proteinIRI'], result['uniprot'])\n",
    "    print(\"MobiDB has %s statements.\" % len(results))\n",
    "outputFiles(resGraph, 'mobidb')"
   ]
  },
  {
   "cell_type": "code",
   "execution_count": null,
   "metadata": {},
   "outputs": [],
   "source": []
  }
 ],
 "metadata": {
  "kernelspec": {
   "display_name": "Python 3",
   "language": "python",
   "name": "python3"
  },
  "language_info": {
   "codemirror_mode": {
    "name": "ipython",
    "version": 3
   },
   "file_extension": ".py",
   "mimetype": "text/x-python",
   "name": "python",
   "nbconvert_exporter": "python",
   "pygments_lexer": "ipython3",
   "version": "3.6.5"
  },
  "toc": {
   "base_numbering": 1,
   "nav_menu": {},
   "number_sections": true,
   "sideBar": true,
   "skip_h1_title": false,
   "title_cell": "Table of Contents",
   "title_sidebar": "Contents",
   "toc_cell": false,
   "toc_position": {},
   "toc_section_display": true,
   "toc_window_display": false
  }
 },
 "nbformat": 4,
 "nbformat_minor": 2
}
