{
 "cells": [
  {
   "cell_type": "markdown",
   "metadata": {},
   "source": [
    "# Converting Scraped Data into IDPCentral\n",
    "\n",
    "Alasdair J G Gray ([ORCID:0000-0002-5711-4872](http://orcid.org/0000-0002-5711-4872))\n",
    "\n",
    "_Heriot-Watt University, Edinburgh, UK_\n",
    "\n",
    "## Introduction\n",
    "\n",
    "IDPCentral is the idea of having a central registry of proteins that are known to be disordered.\n",
    "\n",
    "We aim to populate the content of the registry with Bioschemas markup that has been scraped using the BMUSE tool.\n",
    "\n",
    "This notebook goes through the steps of converting the scraped content into the IDPCentral data model."
   ]
  },
  {
   "cell_type": "markdown",
   "metadata": {
    "heading_collapsed": true
   },
   "source": [
    "## IDPCentral Data Model\n",
    "\n",
    "The IDPCental data model reuses ideas from [Wikidata](https://www.mediawiki.org/wiki/Wikibase/DataModel) whereby every statement loaded contains a provenance link as to where it was acquired.\n",
    "\n",
    "- [ ] Document IDPCentral Model"
   ]
  },
  {
   "cell_type": "markdown",
   "metadata": {
    "heading_collapsed": true
   },
   "source": [
    "## Data Sources\n",
    "\n",
    "The following databases have been scraped to populate IDPCentral\n",
    "- [DisProt](https://www.disprot.org/)\n",
    "- [MobiDb](https://mobidb.bio.unipd.it/)\n",
    "- [Protein Ensemble Database](https://proteinensemble.org/)"
   ]
  },
  {
   "cell_type": "markdown",
   "metadata": {},
   "source": [
    "## Conversion using RDFlib\n",
    "\n",
    "This is an attempt to achieve the same functionality without using a triplestore."
   ]
  },
  {
   "cell_type": "markdown",
   "metadata": {},
   "source": [
    "Load in the RDFLib library."
   ]
  },
  {
   "cell_type": "code",
   "execution_count": null,
   "metadata": {},
   "outputs": [],
   "source": [
    "from rdflib import ConjunctiveGraph, Graph"
   ]
  },
  {
   "cell_type": "markdown",
   "metadata": {},
   "source": [
    "Template library used to template queries."
   ]
  },
  {
   "cell_type": "code",
   "execution_count": null,
   "metadata": {},
   "outputs": [],
   "source": [
    "from string import Template"
   ]
  },
  {
   "cell_type": "markdown",
   "metadata": {},
   "source": [
    "Import functions to list files in directory"
   ]
  },
  {
   "cell_type": "code",
   "execution_count": null,
   "metadata": {},
   "outputs": [],
   "source": [
    "from glob import glob"
   ]
  },
  {
   "cell_type": "markdown",
   "metadata": {},
   "source": [
    "Prepare query to extract UniProt and DisProt IRIs."
   ]
  },
  {
   "cell_type": "code",
   "execution_count": null,
   "metadata": {},
   "outputs": [],
   "source": [
    "idQuery = \"\"\"\n",
    "PREFIX schema: <https://schema.org/>\n",
    "SELECT ?disprot ?uniprot\n",
    "WHERE {\n",
    "    GRAPH ?g {\n",
    "        ?disprot a schema:Protein ;\n",
    "            schema:sameAs ?uniprot .\n",
    "        FILTER regex(str(?uniprot), \"^https://www.uniprot.org/uniprot/\")\n",
    "    }\n",
    "}\n",
    "\"\"\""
   ]
  },
  {
   "cell_type": "markdown",
   "metadata": {},
   "source": [
    "Prepared query for doing the conversion."
   ]
  },
  {
   "cell_type": "code",
   "execution_count": null,
   "metadata": {},
   "outputs": [],
   "source": [
    "convertQuery = Template(\"\"\"\n",
    "PREFIX schema: <https://schema.org/>\n",
    "CONSTRUCT {\n",
    "    <${uniprotIRI}> a schema:Protein ;\n",
    "        schema:identifier ?identifier ;\n",
    "        schema:name ?name ;\n",
    "        schema:hasSequenceAnnotation ?annotation ;\n",
    "        schema:taxonomicRange ?taxonomicRange ;\n",
    "        schema:hasRepresentation ?representation ;\n",
    "        schema:sameAs ?sameAs , <${disprotIRI}>.\n",
    "}\n",
    "WHERE {\n",
    "    GRAPH ?g {\n",
    "# Bioschemas Minimal Properties\n",
    "        <${disprotIRI}> a schema:Protein ;\n",
    "            schema:identifier ?identifier ;\n",
    "            schema:name ?name ;\n",
    "# Bioschemas Recommended properties\n",
    "            schema:hasSequenceAnnotation ?annotation ;\n",
    "            schema:taxonomicRange ?taxonomicRange ;\n",
    "# Bioschemas Optional properties\n",
    "            schema:hasRepresentation ?representation ;\n",
    "            schema:sameAs ?sameAs .\n",
    "    }\n",
    "}\n",
    "\"\"\")"
   ]
  },
  {
   "cell_type": "markdown",
   "metadata": {},
   "source": [
    "Method for running the prepared construct query."
   ]
  },
  {
   "cell_type": "code",
   "execution_count": null,
   "metadata": {},
   "outputs": [],
   "source": [
    "def convertDisprot(disprot, uniprot):\n",
    "    query = convertQuery.substitute(disprotIRI=disprot,uniprotIRI=uniprot)\n",
    "#     print(query)\n",
    "    return g.query(query)"
   ]
  },
  {
   "cell_type": "markdown",
   "metadata": {},
   "source": [
    "Read in each nq data file in turn\n",
    "\n",
    "Process each file and convert into IDPCentral model"
   ]
  },
  {
   "cell_type": "code",
   "execution_count": null,
   "metadata": {},
   "outputs": [],
   "source": [
    "idpGraph = Graph()\n",
    "processed = 0\n",
    "for file in glob(\"../scraped-data/disprot/*.nq\"):\n",
    "    print(\"Processing file: %s\" % file)\n",
    "    g = ConjunctiveGraph()\n",
    "    g.parse(file, format=\"nquads\")\n",
    "    # Extract DisProt and UniProt IRIs\n",
    "    results = g.query(idQuery)\n",
    "    # Convert to IDPCentral model\n",
    "    for result in results:\n",
    "        resGraph = convertDisprot(result['disprot'], result['uniprot'])\n",
    "        idpGraph += resGraph\n",
    "    processed += 1\n",
    "# print(idpGraph.serialize(format='nt'))\n",
    "idpGraph.serialize('output.nt', format='nt')\n",
    "print('Processed %d files' % processed)\n",
    "print('Successfully written all triples to output.nt')"
   ]
  },
  {
   "cell_type": "code",
   "execution_count": null,
   "metadata": {},
   "outputs": [],
   "source": []
  }
 ],
 "metadata": {
  "kernelspec": {
   "display_name": "Python 3",
   "language": "python",
   "name": "python3"
  },
  "language_info": {
   "codemirror_mode": {
    "name": "ipython",
    "version": 3
   },
   "file_extension": ".py",
   "mimetype": "text/x-python",
   "name": "python",
   "nbconvert_exporter": "python",
   "pygments_lexer": "ipython3",
   "version": "3.6.5"
  },
  "toc": {
   "base_numbering": 1,
   "nav_menu": {},
   "number_sections": true,
   "sideBar": true,
   "skip_h1_title": false,
   "title_cell": "Table of Contents",
   "title_sidebar": "Contents",
   "toc_cell": false,
   "toc_position": {},
   "toc_section_display": true,
   "toc_window_display": false
  }
 },
 "nbformat": 4,
 "nbformat_minor": 2
}
