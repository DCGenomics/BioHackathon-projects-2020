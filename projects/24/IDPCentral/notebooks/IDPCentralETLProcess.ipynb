{
 "cells": [
  {
   "cell_type": "markdown",
   "metadata": {},
   "source": [
    "# Converting Scraped Data into IDPCentral\n",
    "\n",
    "Alasdair J G Gray ([ORCID:0000-0002-5711-4872](http://orcid.org/0000-0002-5711-4872))\n",
    "\n",
    "_Heriot-Watt University, Edinburgh, UK_\n",
    "\n",
    "## Introduction\n",
    "\n",
    "IDPCentral is the idea of having a central registry of proteins that are known to be disordered.\n",
    "\n",
    "We aim to populate the content of the registry with Bioschemas markup that has been scraped using the BMUSE tool.\n",
    "\n",
    "This notebook goes through the steps of converting the scraped content into the IDPCentral data model."
   ]
  },
  {
   "cell_type": "markdown",
   "metadata": {},
   "source": [
    "## IDPCentral Data Model\n",
    "\n",
    "The IDPCental data model reuses ideas from [Wikidata](https://www.mediawiki.org/wiki/Wikibase/DataModel) whereby every statement loaded contains a provenance link as to where it was acquired.\n",
    "\n",
    "- [ ] Document IDPCentral Model"
   ]
  },
  {
   "cell_type": "markdown",
   "metadata": {},
   "source": [
    "## Data Sources\n",
    "\n",
    "The following databases have been scraped to populate IDPCentral\n",
    "- [DisProt](https://www.disprot.org/)\n",
    "- [MobiDb](https://mobidb.bio.unipd.it/)\n",
    "- [Protein Ensemble Database](https://proteinensemble.org/)"
   ]
  },
  {
   "cell_type": "markdown",
   "metadata": {},
   "source": [
    "## Python Libraries"
   ]
  },
  {
   "cell_type": "markdown",
   "metadata": {},
   "source": [
    "We need some support libraries to allow us to interface with a SPARQL endpoint and to process the results. We also need `Graph` from `rdflib` to process the responses from CONSTRUCT queries."
   ]
  },
  {
   "cell_type": "code",
   "execution_count": null,
   "metadata": {},
   "outputs": [],
   "source": [
    "from SPARQLWrapper import SPARQLWrapper, JSON, N3\n",
    "from rdflib import Graph"
   ]
  },
  {
   "cell_type": "code",
   "execution_count": null,
   "metadata": {},
   "outputs": [],
   "source": [
    "from string import Template"
   ]
  },
  {
   "cell_type": "markdown",
   "metadata": {},
   "source": [
    "## DisProt Conversion"
   ]
  },
  {
   "cell_type": "markdown",
   "metadata": {},
   "source": [
    "First we configure the SPARQL endpoint where we have loaded the data and setup a function that will query the endpoint and return the results in JSON."
   ]
  },
  {
   "cell_type": "code",
   "execution_count": null,
   "metadata": {},
   "outputs": [],
   "source": [
    "dpSparql = SPARQLWrapper(\"http://localhost:3030/disprot/sparql\")\n",
    "def dpSelect(query):\n",
    "    dpSparql.setReturnFormat(JSON)\n",
    "    dpSparql.setQuery(query)\n",
    "    results = dpSparql.queryAndConvert()\n",
    "    return results\n",
    "def dpConstruct(query):\n",
    "    dpSparql.setReturnFormat(N3)\n",
    "    dpSparql.setOnlyConneg(True)\n",
    "    dpSparql.setQuery(query)\n",
    "    results = dpSparql.query().convert()\n",
    "    g = Graph()\n",
    "    g.parse(data=results, format=\"n3\")\n",
    "    return g"
   ]
  },
  {
   "cell_type": "code",
   "execution_count": null,
   "metadata": {},
   "outputs": [],
   "source": [
    "convertQuery = Template(\"\"\"\n",
    "PREFIX schema: <https://schema.org/>\n",
    "CONSTRUCT {\n",
    "    <${uniprotIRI}> a schema:Protein ;\n",
    "        schema:identifier ?identifier ;\n",
    "        schema:name ?name ;\n",
    "        schema:hasSequenceAnnotation ?annotation ;\n",
    "        schema:taxonomicRange ?taxonomicRange ;\n",
    "        schema:hasRepresentation ?representation ;\n",
    "        schema:sameAs ?sameAs , <${disprotIRI}>.\n",
    "}\n",
    "WHERE {\n",
    "    GRAPH ?g {\n",
    "# Bioschemas Minimal Properties\n",
    "        <${disprotIRI}> a schema:Protein ;\n",
    "            schema:identifier ?identifier ;\n",
    "            schema:name ?name ;\n",
    "# Bioschemas Recommended properties\n",
    "            schema:hasSequenceAnnotation ?annotation ;\n",
    "            schema:taxonomicRange ?taxonomicRange ;\n",
    "# Bioschemas Optional properties\n",
    "            schema:hasRepresentation ?representation ;\n",
    "            schema:sameAs ?sameAs .\n",
    "    }\n",
    "}\n",
    "\"\"\")\n",
    "def convertDisprot(disprot, uniprot):\n",
    "    query = convertQuery.substitute(disprotIRI=disprot,uniprotIRI=uniprot)\n",
    "    #print(query)\n",
    "    results = dpConstruct(query)\n",
    "    return results\n"
   ]
  },
  {
   "cell_type": "code",
   "execution_count": null,
   "metadata": {},
   "outputs": [],
   "source": [
    "query = \"\"\"\n",
    "PREFIX schema: <https://schema.org/>\n",
    "SELECT ?disprot ?uniprot\n",
    "WHERE {\n",
    "    GRAPH ?g {\n",
    "        ?disprot a schema:Protein ;\n",
    "            schema:sameAs ?uniprot .\n",
    "        FILTER regex(str(?uniprot), \"^https://www.uniprot.org/uniprot/\")\n",
    "    }\n",
    "}\n",
    "\"\"\"\n",
    "results = dpSelect(query)\n",
    "for result in results[\"results\"][\"bindings\"]:\n",
    "    disprot = result[\"disprot\"][\"value\"]\n",
    "    uniprot = result[\"uniprot\"][\"value\"]\n",
    "    response = convertDisprot(disprot, uniprot)\n",
    "    print(response.serialize(format='nt'))"
   ]
  },
  {
   "cell_type": "markdown",
   "metadata": {},
   "source": [
    "## Conversion using RDFlib\n",
    "\n",
    "This is an attempt to achieve the same functionality without using a triplestore."
   ]
  },
  {
   "cell_type": "markdown",
   "metadata": {},
   "source": [
    "Load in the RDFLib library."
   ]
  },
  {
   "cell_type": "code",
   "execution_count": 85,
   "metadata": {},
   "outputs": [],
   "source": [
    "from rdflib import ConjunctiveGraph\n",
    "from rdflib.plugins.sparql.processor import prepareQuery"
   ]
  },
  {
   "cell_type": "code",
   "execution_count": 86,
   "metadata": {},
   "outputs": [],
   "source": [
    "from string import Template"
   ]
  },
  {
   "cell_type": "markdown",
   "metadata": {},
   "source": [
    "Read in data file."
   ]
  },
  {
   "cell_type": "code",
   "execution_count": 91,
   "metadata": {},
   "outputs": [
    {
     "data": {
      "text/plain": [
       "<Graph identifier=file:///Users/ajg33/Workspace/BioHackathon-projects-2020/projects/24/IDPCentral/scraped-data/disprot/2242.nq (<class 'rdflib.graph.Graph'>)>"
      ]
     },
     "execution_count": 91,
     "metadata": {},
     "output_type": "execute_result"
    }
   ],
   "source": [
    "g = ConjunctiveGraph()\n",
    "#g.parse(\"2242.nq\", format=\"nquads\")\n",
    "g.parse(\"../scraped-data/disprot/2242.nq\", format=\"nquads\")"
   ]
  },
  {
   "cell_type": "markdown",
   "metadata": {},
   "source": [
    "Prepare query to extract UniProt and DisProt IRIs."
   ]
  },
  {
   "cell_type": "code",
   "execution_count": 46,
   "metadata": {},
   "outputs": [],
   "source": [
    "idQuery = prepareQuery(\n",
    "\"\"\"\n",
    "PREFIX schema: <https://schema.org/>\n",
    "SELECT ?disprot ?uniprot\n",
    "WHERE {\n",
    "    GRAPH ?g {\n",
    "        ?disprot a schema:Protein ;\n",
    "            schema:sameAs ?uniprot .\n",
    "        FILTER regex(str(?uniprot), \"^https://www.uniprot.org/uniprot/\")\n",
    "    }\n",
    "}\n",
    "\"\"\"\n",
    ")"
   ]
  },
  {
   "cell_type": "markdown",
   "metadata": {},
   "source": [
    "Prepare query for doing the conversion."
   ]
  },
  {
   "cell_type": "code",
   "execution_count": 48,
   "metadata": {},
   "outputs": [],
   "source": [
    "convertQuery = prepareQuery(\"\"\"\n",
    "PREFIX schema: <https://schema.org/>\n",
    "CONSTRUCT {\n",
    "    ?uniprotIRI a schema:Protein ;\n",
    "        schema:identifier ?identifier ;\n",
    "        schema:name ?name ;\n",
    "        schema:hasSequenceAnnotation ?annotation ;\n",
    "        schema:taxonomicRange ?taxonomicRange ;\n",
    "        schema:hasRepresentation ?representation ;\n",
    "        schema:sameAs ?sameAs , ?disprotIRI.\n",
    "}\n",
    "WHERE {\n",
    "    GRAPH ?g {\n",
    "# Bioschemas Minimal Properties\n",
    "        ?disprotIRI a schema:Protein ;\n",
    "            schema:identifier ?identifier ;\n",
    "            schema:name ?name ;\n",
    "# Bioschemas Recommended properties\n",
    "            schema:hasSequenceAnnotation ?annotation ;\n",
    "            schema:taxonomicRange ?taxonomicRange ;\n",
    "# Bioschemas Optional properties\n",
    "            schema:hasRepresentation ?representation ;\n",
    "            schema:sameAs ?sameAs .\n",
    "    }\n",
    "}\n",
    "\"\"\")"
   ]
  },
  {
   "cell_type": "code",
   "execution_count": 82,
   "metadata": {},
   "outputs": [],
   "source": [
    "def convertDisprot(disprot, uniprot):\n",
    "    print('DisProt: ' + disprot + ' ' + type(disprot))\n",
    "    print(\"hello\")\n",
    "    \n",
    "#     result_graph = g.query(convertQuery, initBindings={'disprotIRI': disprot,'uniprotIRI': uniprot})\n",
    "#     for i in ['askAnswer', 'bindings', 'graph',\n",
    "#            'selectionF', 'type', 'vars']:\n",
    "#          v = getattr(results, i)\n",
    "#          print(i, type(v), v, repr(v))\n",
    "\n",
    "#     return results"
   ]
  },
  {
   "cell_type": "markdown",
   "metadata": {},
   "source": [
    "Extract UniProt and DisProt IRIs, then use them to convert the data to the IDPCentral model"
   ]
  },
  {
   "cell_type": "code",
   "execution_count": 98,
   "metadata": {},
   "outputs": [
    {
     "name": "stderr",
     "output_type": "stream",
     "text": [
      "DisProt: http://disprot.org/DP00003 does not look like a valid URI, trying to serialize this will break.\n",
      "DisProt: http://disprot.org/DP00003  does not look like a valid URI, trying to serialize this will break.\n"
     ]
    },
    {
     "name": "stdout",
     "output_type": "stream",
     "text": [
      "<rdflib.plugins.sparql.processor.SPARQLResult object at 0x10df14ac8>\n",
      "(rdflib.term.URIRef('http://disprot.org/DP00003'), rdflib.term.URIRef('https://www.uniprot.org/uniprot/P03265'))\n",
      "Disprot: http://disprot.org/DP00003\n",
      "UniProt: https://www.uniprot.org/uniprot/P03265\n",
      "(rdflib.term.URIRef('http://disprot.org/DP00003'), rdflib.term.URIRef('https://www.uniprot.org/uniprot/P03265'))\n",
      "Disprot: http://disprot.org/DP00003\n",
      "UniProt: https://www.uniprot.org/uniprot/P03265\n"
     ]
    },
    {
     "ename": "TypeError",
     "evalue": "must be str, not type",
     "output_type": "error",
     "traceback": [
      "\u001b[0;31m---------------------------------------------------------------------------\u001b[0m",
      "\u001b[0;31mTypeError\u001b[0m                                 Traceback (most recent call last)",
      "\u001b[0;32m<ipython-input-98-589d49632332>\u001b[0m in \u001b[0;36m<module>\u001b[0;34m()\u001b[0m\n\u001b[1;32m     11\u001b[0m \u001b[0;34m\u001b[0m\u001b[0m\n\u001b[1;32m     12\u001b[0m \u001b[0;32mfor\u001b[0m \u001b[0mresult\u001b[0m \u001b[0;32min\u001b[0m \u001b[0mresults\u001b[0m\u001b[0;34m:\u001b[0m\u001b[0;34m\u001b[0m\u001b[0m\n\u001b[0;32m---> 13\u001b[0;31m     \u001b[0mresponse\u001b[0m \u001b[0;34m=\u001b[0m \u001b[0mconvertDisprot\u001b[0m\u001b[0;34m(\u001b[0m\u001b[0mresult\u001b[0m\u001b[0;34m[\u001b[0m\u001b[0;34m'disprot'\u001b[0m\u001b[0;34m]\u001b[0m\u001b[0;34m,\u001b[0m \u001b[0mresult\u001b[0m\u001b[0;34m[\u001b[0m\u001b[0;34m'uniprot'\u001b[0m\u001b[0;34m]\u001b[0m\u001b[0;34m)\u001b[0m\u001b[0;34m\u001b[0m\u001b[0m\n\u001b[0m\u001b[1;32m     14\u001b[0m \u001b[0;31m# #     print(response.serialize(format='nt'))\u001b[0m\u001b[0;34m\u001b[0m\u001b[0;34m\u001b[0m\u001b[0m\n",
      "\u001b[0;32m<ipython-input-82-79aa7f3bd6b2>\u001b[0m in \u001b[0;36mconvertDisprot\u001b[0;34m(disprot, uniprot)\u001b[0m\n\u001b[1;32m      1\u001b[0m \u001b[0;32mdef\u001b[0m \u001b[0mconvertDisprot\u001b[0m\u001b[0;34m(\u001b[0m\u001b[0mdisprot\u001b[0m\u001b[0;34m,\u001b[0m \u001b[0muniprot\u001b[0m\u001b[0;34m)\u001b[0m\u001b[0;34m:\u001b[0m\u001b[0;34m\u001b[0m\u001b[0m\n\u001b[0;32m----> 2\u001b[0;31m     \u001b[0mprint\u001b[0m\u001b[0;34m(\u001b[0m\u001b[0;34m'DisProt: '\u001b[0m \u001b[0;34m+\u001b[0m \u001b[0mdisprot\u001b[0m \u001b[0;34m+\u001b[0m \u001b[0;34m' '\u001b[0m \u001b[0;34m+\u001b[0m \u001b[0mtype\u001b[0m\u001b[0;34m(\u001b[0m\u001b[0mdisprot\u001b[0m\u001b[0;34m)\u001b[0m\u001b[0;34m)\u001b[0m\u001b[0;34m\u001b[0m\u001b[0m\n\u001b[0m\u001b[1;32m      3\u001b[0m     \u001b[0mprint\u001b[0m\u001b[0;34m(\u001b[0m\u001b[0;34m\"hello\"\u001b[0m\u001b[0;34m)\u001b[0m\u001b[0;34m\u001b[0m\u001b[0m\n\u001b[1;32m      4\u001b[0m \u001b[0;34m\u001b[0m\u001b[0m\n\u001b[1;32m      5\u001b[0m \u001b[0;31m#     result_graph = g.query(convertQuery, initBindings={'disprotIRI': disprot,'uniprotIRI': uniprot})\u001b[0m\u001b[0;34m\u001b[0m\u001b[0;34m\u001b[0m\u001b[0m\n",
      "\u001b[0;32m/anaconda3/lib/python3.6/site-packages/rdflib/term.py\u001b[0m in \u001b[0;36m__add__\u001b[0;34m(self, other)\u001b[0m\n\u001b[1;32m    278\u001b[0m \u001b[0;34m\u001b[0m\u001b[0m\n\u001b[1;32m    279\u001b[0m     \u001b[0;32mdef\u001b[0m \u001b[0m__add__\u001b[0m\u001b[0;34m(\u001b[0m\u001b[0mself\u001b[0m\u001b[0;34m,\u001b[0m \u001b[0mother\u001b[0m\u001b[0;34m)\u001b[0m\u001b[0;34m:\u001b[0m\u001b[0;34m\u001b[0m\u001b[0m\n\u001b[0;32m--> 280\u001b[0;31m         \u001b[0;32mreturn\u001b[0m \u001b[0mself\u001b[0m\u001b[0;34m.\u001b[0m\u001b[0m__class__\u001b[0m\u001b[0;34m(\u001b[0m\u001b[0mstr\u001b[0m\u001b[0;34m(\u001b[0m\u001b[0mself\u001b[0m\u001b[0;34m)\u001b[0m \u001b[0;34m+\u001b[0m \u001b[0mother\u001b[0m\u001b[0;34m)\u001b[0m\u001b[0;34m\u001b[0m\u001b[0m\n\u001b[0m\u001b[1;32m    281\u001b[0m \u001b[0;34m\u001b[0m\u001b[0m\n\u001b[1;32m    282\u001b[0m     \u001b[0;32mdef\u001b[0m \u001b[0m__radd__\u001b[0m\u001b[0;34m(\u001b[0m\u001b[0mself\u001b[0m\u001b[0;34m,\u001b[0m \u001b[0mother\u001b[0m\u001b[0;34m)\u001b[0m\u001b[0;34m:\u001b[0m\u001b[0;34m\u001b[0m\u001b[0m\n",
      "\u001b[0;31mTypeError\u001b[0m: must be str, not type"
     ]
    }
   ],
   "source": [
    "results = g.query(idQuery)\n",
    "\n",
    "# for result in results:\n",
    "#     print(result)\n",
    "#     print(\"Disprot: %s\\nUniProt: %s\" % row)    \n",
    "\n",
    "for result in results:\n",
    "    response = convertDisprot(result['disprot'], result['uniprot'])\n",
    "# #     print(response.serialize(format='nt'))\n",
    "\n"
   ]
  },
  {
   "cell_type": "code",
   "execution_count": null,
   "metadata": {},
   "outputs": [],
   "source": []
  }
 ],
 "metadata": {
  "kernelspec": {
   "display_name": "Python 3",
   "language": "python",
   "name": "python3"
  },
  "language_info": {
   "codemirror_mode": {
    "name": "ipython",
    "version": 3
   },
   "file_extension": ".py",
   "mimetype": "text/x-python",
   "name": "python",
   "nbconvert_exporter": "python",
   "pygments_lexer": "ipython3",
   "version": "3.6.5"
  },
  "toc": {
   "base_numbering": 1,
   "nav_menu": {},
   "number_sections": true,
   "sideBar": true,
   "skip_h1_title": false,
   "title_cell": "Table of Contents",
   "title_sidebar": "Contents",
   "toc_cell": false,
   "toc_position": {},
   "toc_section_display": true,
   "toc_window_display": false
  }
 },
 "nbformat": 4,
 "nbformat_minor": 2
}
